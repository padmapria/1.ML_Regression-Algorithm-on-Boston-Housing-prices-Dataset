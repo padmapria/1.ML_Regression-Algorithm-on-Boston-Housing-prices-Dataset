{
 "cells": [
  {
   "cell_type": "code",
   "execution_count": 112,
   "metadata": {
    "ExecuteTime": {
     "end_time": "2019-10-03T22:32:35.580965Z",
     "start_time": "2019-10-03T22:32:35.562954Z"
    },
    "colab": {},
    "colab_type": "code",
    "id": "REYPoTJ1Af7u"
   },
   "outputs": [],
   "source": []
  },
  {
   "cell_type": "code",
   "execution_count": null,
   "metadata": {},
   "outputs": [],
   "source": [
    "import warnings\n",
    "warnings.filterwarnings(\"ignore\")\n",
    "from sklearn.datasets import load_boston\n",
    "from random import seed\n",
    "from random import randrange\n",
    "from csv import reader\n",
    "from math import sqrt\n",
    "from sklearn import preprocessing\n",
    "import pandas as pd\n",
    "import numpy as np\n",
    "import matplotlib.pyplot as plt\n",
    "from prettytable import PrettyTable\n",
    "from sklearn.linear_model import SGDRegressor\n",
    "from sklearn import preprocessing\n",
    "from sklearn.metrics import mean_squared_error"
   ]
  },
  {
   "cell_type": "markdown",
   "metadata": {},
   "source": [
    "Our equation for linear regression :-\n",
    "\n",
    "L(W,B)= 1/n Σ (y-w.x-b)^2\n",
    "\n",
    "take partial derivative w.r.t W dL/dW and B dL/dB\n",
    "\n",
    "dL/dW = 1/n Σ (-2x)(y-w.x-b)\n",
    "\n",
    "dL/dB= 1/n Σ (-2)(y-w.x-b)\n",
    "\n",
    "W(j+1)=W(j) – r *(dL/dW)\n",
    "\n",
    "B(j+1)=B(j) – r*(dL/dB)\n",
    "\n",
    "iterate this till W(k) becomes nearly equal to W(k+1) and B(k) nearly equal to B(k+1).\n",
    "\n",
    "After that find out predicted output on test data and calculate mean squared error."
   ]
  },
  {
   "cell_type": "markdown",
   "metadata": {},
   "source": [
    "<h2><font color='red'>[1.1] Loading the Boston Dataset</font></h2>"
   ]
  },
  {
   "cell_type": "code",
   "execution_count": 285,
   "metadata": {
    "ExecuteTime": {
     "end_time": "2019-10-04T07:09:16.978142Z",
     "start_time": "2019-10-04T07:09:16.937111Z"
    },
    "colab": {},
    "colab_type": "code",
    "id": "NTQ2iH-kAwbo"
   },
   "outputs": [
    {
     "name": "stdout",
     "output_type": "stream",
     "text": [
      "<class 'numpy.ndarray'>\n"
     ]
    }
   ],
   "source": [
    "boston = load_boston()\n",
    "X = load_boston().data\n",
    "Y = load_boston().target\n",
    "print(type(X))\n",
    "\n"
   ]
  },
  {
   "cell_type": "code",
   "execution_count": 286,
   "metadata": {
    "ExecuteTime": {
     "end_time": "2019-10-04T07:09:17.566233Z",
     "start_time": "2019-10-04T07:09:17.559227Z"
    }
   },
   "outputs": [
    {
     "name": "stdout",
     "output_type": "stream",
     "text": [
      "['CRIM' 'ZN' 'INDUS' 'CHAS' 'NOX' 'RM' 'AGE' 'DIS' 'RAD' 'TAX' 'PTRATIO'\n",
      " 'B' 'LSTAT']\n"
     ]
    }
   ],
   "source": [
    "names = boston[\"feature_names\"]\n",
    "print(names)"
   ]
  },
  {
   "cell_type": "markdown",
   "metadata": {
    "ExecuteTime": {
     "end_time": "2019-10-01T05:48:37.146915Z",
     "start_time": "2019-10-01T05:48:37.131904Z"
    }
   },
   "source": [
    "<h2><font color='red'>[1.2] Splitting data into Train and Test</font></h2>"
   ]
  },
  {
   "cell_type": "code",
   "execution_count": 287,
   "metadata": {
    "ExecuteTime": {
     "end_time": "2019-10-04T07:09:18.531381Z",
     "start_time": "2019-10-04T07:09:18.509375Z"
    }
   },
   "outputs": [
    {
     "name": "stdout",
     "output_type": "stream",
     "text": [
      "(354, 13)\n",
      "(152, 13)\n",
      "(354,)\n",
      "(152,)\n"
     ]
    }
   ],
   "source": [
    "from sklearn.model_selection import train_test_split\n",
    "X_train, X_test, Y_train, Y_test = train_test_split(X, Y, test_size = 0.3, random_state = 4)\n",
    "print(X_train.shape)\n",
    "print(X_test.shape)\n",
    "print(Y_train.shape)\n",
    "print(Y_test.shape)"
   ]
  },
  {
   "cell_type": "markdown",
   "metadata": {},
   "source": [
    " Vectorizing Numerical features"
   ]
  },
  {
   "cell_type": "code",
   "execution_count": 288,
   "metadata": {
    "ExecuteTime": {
     "end_time": "2019-10-04T07:09:19.435831Z",
     "start_time": "2019-10-04T07:09:19.419798Z"
    },
    "colab": {},
    "colab_type": "code",
    "id": "FgUW39s6Be0U"
   },
   "outputs": [],
   "source": [
    "scaler = preprocessing.StandardScaler().fit(X_train)\n",
    "X_train = scaler.transform(X_train)\n",
    "X_test = scaler.transform(X_test)\n"
   ]
  },
  {
   "cell_type": "markdown",
   "metadata": {},
   "source": [
    "<h2><font color='red'>[1.3] Applying SGD Regressor on Train and Test</font></h2>"
   ]
  },
  {
   "cell_type": "code",
   "execution_count": 289,
   "metadata": {
    "ExecuteTime": {
     "end_time": "2019-10-04T07:09:20.607380Z",
     "start_time": "2019-10-04T07:09:20.584343Z"
    },
    "colab": {
     "base_uri": "https://localhost:8080/",
     "height": 34
    },
    "colab_type": "code",
    "executionInfo": {
     "elapsed": 879,
     "status": "ok",
     "timestamp": 1545718892607,
     "user": {
      "displayName": "Applied AI Course",
      "photoUrl": "https://lh5.googleusercontent.com/-9_3A9F-kDXs/AAAAAAAAAAI/AAAAAAAAACw/IprjYvUuoXQ/s64/photo.jpg",
      "userId": "00484516897554883881"
     },
     "user_tz": -330
    },
    "id": "HNu1sXtEBBS2",
    "outputId": "a0c5d3d0-345c-4a34-8ccf-0d9f3d7d23fd"
   },
   "outputs": [
    {
     "name": "stdout",
     "output_type": "stream",
     "text": [
      "19.224645051861707\n"
     ]
    }
   ],
   "source": [
    "clf = SGDRegressor(loss='squared_loss')\n",
    "clf.fit(X_train, Y_train)\n",
    "print(mean_squared_error(Y_train, clf.predict(X_train)))"
   ]
  },
  {
   "cell_type": "code",
   "execution_count": 290,
   "metadata": {
    "ExecuteTime": {
     "end_time": "2019-10-04T07:09:21.181936Z",
     "start_time": "2019-10-04T07:09:21.177935Z"
    }
   },
   "outputs": [],
   "source": [
    "import matplotlib.pyplot as plt\n",
    "Y_pred = clf.predict(X_test)"
   ]
  },
  {
   "cell_type": "code",
   "execution_count": 291,
   "metadata": {
    "ExecuteTime": {
     "end_time": "2019-10-04T07:09:21.525967Z",
     "start_time": "2019-10-04T07:09:21.515968Z"
    }
   },
   "outputs": [
    {
     "name": "stdout",
     "output_type": "stream",
     "text": [
      "Train Mean Square error:  19.224645051861707\n",
      "Test Mean Square error:  29.877678170442312\n"
     ]
    }
   ],
   "source": [
    "from sklearn.metrics import mean_squared_error\n",
    "\n",
    "train_mse = mean_squared_error(Y_train, clf.predict(X_train))\n",
    "test_mse = mean_squared_error(Y_test, Y_pred)\n",
    "print('Train Mean Square error: ', train_mse)\n",
    "print('Test Mean Square error: ', test_mse)"
   ]
  },
  {
   "cell_type": "code",
   "execution_count": 300,
   "metadata": {
    "ExecuteTime": {
     "end_time": "2019-10-04T07:11:29.566781Z",
     "start_time": "2019-10-04T07:11:29.526761Z"
    }
   },
   "outputs": [],
   "source": [
    "from prettytable import PrettyTable\n",
    "table = PrettyTable()\n",
    "table.field_names = [\"Regressor\", \"Train MSE\", \"Test MSE\"]\n",
    "table.add_row(['SGDRegressor', round(train_mse,2), round(test_mse,2)])"
   ]
  },
  {
   "cell_type": "code",
   "execution_count": 299,
   "metadata": {
    "ExecuteTime": {
     "end_time": "2019-10-04T07:10:09.979124Z",
     "start_time": "2019-10-04T07:10:09.659898Z"
    }
   },
   "outputs": [
    {
     "data": {
      "image/png": "[encoded data removed]",
      "text/plain": [
       "<Figure size 432x288 with 1 Axes>"
      ]
     },
     "metadata": {
      "needs_background": "light"
     },
     "output_type": "display_data"
    }
   ],
   "source": [
    "plt.scatter(Y_test, Y_pred)\n",
    "plt.xlabel(\"Prices: Y\")\n",
    "plt.ylabel(\"Predicted prices: Y Cap\")\n",
    "plt.title(\"Prices vs Predicted prices: Y vs Y Cap using SGD regressor\")\n",
    "plt.show()"
   ]
  },
  {
   "cell_type": "markdown",
   "metadata": {},
   "source": [
    "<h2><font color='red'>[1.4] Applying Maunal SGD Regressor on Train and Test</font></h2>"
   ]
  },
  {
   "cell_type": "code",
   "execution_count": 294,
   "metadata": {
    "ExecuteTime": {
     "end_time": "2019-10-04T07:09:27.511803Z",
     "start_time": "2019-10-04T07:09:24.095784Z"
    }
   },
   "outputs": [
    {
     "name": "stdout",
     "output_type": "stream",
     "text": [
      "[[-1.03140355  1.14471142 -0.36118597  1.08717814 -1.57413657  2.19810059\n",
      "  -0.14402866 -3.27501921  2.16348632 -1.65923148 -1.71623125  0.858431\n",
      "  -3.61519438]]\n",
      "[22.08090168]\n"
     ]
    }
   ],
   "source": [
    "iteration=100\n",
    "lr_rate=0.01\n",
    "k=100\n",
    "\n",
    "training_data=pd.DataFrame(X_train)\n",
    "training_data['price']=Y_train\n",
    "training_data.head()\n",
    "while iteration>=0: \n",
    "    idx = np.random.choice(np.arange(len(X_train)), k, replace=False)\n",
    "    x = X_train[idx]\n",
    "    y = Y_train[idx]\n",
    "    W=np.random.normal(0,1,x.shape[1])\n",
    "    B=0\n",
    "    w,b,=W,B\n",
    "    temp_vectors =np.zeros(shape=(1,13))\n",
    "    temp_intercept =0\n",
    "    \n",
    "    for i in range(k):\n",
    "        #partial differentiation wrt w dl/dw=1/k(-2x)*(y-wTx-b)\n",
    "        temp_vectors+=(-2)*x[i]*(y[i]-(np.dot(w,x[i])+b))\n",
    "        \n",
    "        #partial differentiation wrt b dl/db=1/k(-2)*(y-wTx-b)\n",
    "        temp_intercept+=(-2)*(y[i]-(np.dot(w,x[i])+b))\n",
    "        \n",
    "        W=(w-lr_rate*(temp_vectors)/k)\n",
    "        B=(b-lr_rate*(temp_intercept)/k)\n",
    "        \n",
    "        if(np.allclose(W,w)):\n",
    "            print(\"**********\")\n",
    "            print(W)\n",
    "    \n",
    "    iteration-=1\n",
    "    \n",
    "print(W)\n",
    "print(B)"
   ]
  },
  {
   "cell_type": "code",
   "execution_count": null,
   "metadata": {},
   "outputs": [],
   "source": []
  },
  {
   "cell_type": "code",
   "execution_count": 295,
   "metadata": {
    "ExecuteTime": {
     "end_time": "2019-10-04T07:09:28.789057Z",
     "start_time": "2019-10-04T07:09:28.771044Z"
    }
   },
   "outputs": [],
   "source": [
    "#prediction on x_test using manual SGD\n",
    "#https://www.geeksforgeeks.org/numpy-asscalar-in-python/\n",
    "y_train_manual=[]\n",
    "for i in range(len(X_train)):\n",
    "    val=np.dot(W,X_train[i])+B  #val= wTx+b\n",
    "    y_train_manual.append(np.asscalar(val))\n",
    "    \n",
    "    \n",
    "y_test_manual=[]\n",
    "for i in range(len(X_test)):\n",
    "    val=np.dot(W,X_test[i])+B  #val= wTx+b\n",
    "    y_test_manual.append(np.asscalar(val))"
   ]
  },
  {
   "cell_type": "code",
   "execution_count": 301,
   "metadata": {
    "ExecuteTime": {
     "end_time": "2019-10-04T07:11:56.187966Z",
     "start_time": "2019-10-04T07:11:56.168953Z"
    }
   },
   "outputs": [
    {
     "name": "stdout",
     "output_type": "stream",
     "text": [
      "Manual Train Mean Square error:  19.158752449680495\n",
      "Manual Test Mean Square error:  30.224755464272196\n"
     ]
    }
   ],
   "source": [
    "manual_train_mse = mean_squared_error(Y_train, y_train_manual)\n",
    "manual_test_mse = mean_squared_error(Y_test, y_test_manual)\n",
    "print('Manual Train Mean Square error: ', manual_train_mse)\n",
    "print('Manual Test Mean Square error: ', manual_test_mse)\n",
    "\n",
    "table.add_row(['Manual SGDRegressor', round(manual_train_mse,2), round(manual_test_mse,2)])"
   ]
  },
  {
   "cell_type": "code",
   "execution_count": 298,
   "metadata": {
    "ExecuteTime": {
     "end_time": "2019-10-04T07:09:52.396654Z",
     "start_time": "2019-10-04T07:09:52.084433Z"
    }
   },
   "outputs": [
    {
     "data": {
      "image/png": "[encoded data removed]",
      "text/plain": [
       "<Figure size 432x288 with 1 Axes>"
      ]
     },
     "metadata": {
      "needs_background": "light"
     },
     "output_type": "display_data"
    }
   ],
   "source": [
    "plt.scatter(Y_test, y_test_manual)\n",
    "plt.xlabel(\"Prices: Y\")\n",
    "plt.ylabel(\"Predicted prices: Y Cap\")\n",
    "plt.title(\"Prices vs Predicted prices: Y vs Y Cap using Manual SGD regressor\")\n",
    "plt.show()"
   ]
  },
  {
   "cell_type": "code",
   "execution_count": 302,
   "metadata": {
    "ExecuteTime": {
     "end_time": "2019-10-04T07:12:13.263213Z",
     "start_time": "2019-10-04T07:12:13.226188Z"
    }
   },
   "outputs": [
    {
     "name": "stdout",
     "output_type": "stream",
     "text": [
      "+---------------------+-----------+----------+\n",
      "|      Regressor      | Train MSE | Test MSE |\n",
      "+---------------------+-----------+----------+\n",
      "|     SGDRegressor    |   19.22   |  29.88   |\n",
      "| Manual SGDRegressor |   19.16   |  30.22   |\n",
      "+---------------------+-----------+----------+\n"
     ]
    }
   ],
   "source": [
    "# Please compare all your models using Prettytable library\n",
    "from prettytable import PrettyTable\n",
    "print(table)"
   ]
  },
  {
   "cell_type": "code",
   "execution_count": null,
   "metadata": {},
   "outputs": [],
   "source": []
  }
 ],
 "metadata": {
  "colab": {
   "name": "Untitled3.ipynb",
   "provenance": [],
   "version": "0.3.2"
  },
  "kernelspec": {
   "display_name": "Python 3",
   "language": "python",
   "name": "python3"
  },
  "language_info": {
   "codemirror_mode": {
    "name": "ipython",
    "version": 3
   },
   "file_extension": ".py",
   "mimetype": "text/x-python",
   "name": "python",
   "nbconvert_exporter": "python",
   "pygments_lexer": "ipython3",
   "version": "3.7.3"
  },
  "toc": {
   "base_numbering": 1,
   "nav_menu": {},
   "number_sections": true,
   "sideBar": true,
   "skip_h1_title": false,
   "title_cell": "Table of Contents",
   "title_sidebar": "Contents",
   "toc_cell": false,
   "toc_position": {},
   "toc_section_display": true,
   "toc_window_display": false
  },
  "varInspector": {
   "cols": {
    "lenName": 16,
    "lenType": 16,
    "lenVar": 40
   },
   "kernels_config": {
    "python": {
     "delete_cmd_postfix": "",
     "delete_cmd_prefix": "del ",
     "library": "var_list.py",
     "varRefreshCmd": "print(var_dic_list())"
    },
    "r": {
     "delete_cmd_postfix": ") ",
     "delete_cmd_prefix": "rm(",
     "library": "var_list.r",
     "varRefreshCmd": "cat(var_dic_list()) "
    }
   },
   "types_to_exclude": [
    "module",
    "function",
    "builtin_function_or_method",
    "instance",
    "_Feature"
   ],
   "window_display": false
  }
 },
 "nbformat": 4,
 "nbformat_minor": 1
}
