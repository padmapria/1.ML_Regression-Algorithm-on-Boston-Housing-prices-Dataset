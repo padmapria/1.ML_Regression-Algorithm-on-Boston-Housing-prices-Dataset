{
 "cells": [
  {
   "cell_type": "markdown",
   "metadata": {},
   "source": [
    "The Boston Housing Dataset is a toy dataset, consists of price of houses in various places in Boston. Alongside with price, the dataset also provide information such as Crime (CRIM), areas of non-retail business in the town (INDUS), the age of people who own the house (AGE), and there are many other attributes. \n",
    "\n",
    "Aim: Is to predict the price of houses, given various factors that influence the price\n",
    "\n",
    "The Boston data frame has 506 rows and 14 columns."
   ]
  },
  {
   "cell_type": "code",
   "execution_count": null,
   "metadata": {},
   "outputs": [],
   "source": []
  },
  {
   "cell_type": "code",
   "execution_count": 23,
   "metadata": {
    "ExecuteTime": {
     "end_time": "2019-10-08T08:45:47.895345Z",
     "start_time": "2019-10-08T08:45:47.886338Z"
    }
   },
   "outputs": [],
   "source": [
    "import warnings\n",
    "warnings.filterwarnings(\"ignore\")\n",
    "from sklearn.datasets import load_boston\n",
    "from random import seed\n",
    "from random import randrange\n",
    "from csv import reader\n",
    "from math import sqrt\n",
    "from sklearn import preprocessing\n",
    "import pandas as pd\n",
    "import numpy as np\n",
    "import matplotlib.pyplot as plt\n",
    "from prettytable import PrettyTable\n",
    "from sklearn.linear_model import SGDRegressor\n",
    "from sklearn import preprocessing\n",
    "from sklearn.metrics import mean_squared_error"
   ]
  },
  {
   "cell_type": "markdown",
   "metadata": {},
   "source": [
    "Our equation for linear regression :-\n",
    "\n",
    "L(W,B)= 1/n Σ (y-w.x-b)^2\n",
    "\n",
    "take partial derivative w.r.t W dL/dW and B dL/dB\n",
    "\n",
    "dL/dW = 1/n Σ (-2x)(y-w.x-b)\n",
    "\n",
    "dL/dB= 1/n Σ (-2)(y-w.x-b)\n",
    "\n",
    "W(j+1)=W(j) – r *(dL/dW)\n",
    "\n",
    "B(j+1)=B(j) – r*(dL/dB)\n",
    "\n",
    "iterate this till W(k) becomes nearly equal to W(k+1) and B(k) nearly equal to B(k+1).\n",
    "\n",
    "After that find out predicted output on test data and calculate mean squared error."
   ]
  },
  {
   "cell_type": "markdown",
   "metadata": {},
   "source": [
    "<h2><font color='red'>[1.1] Loading the Boston Dataset</font></h2>"
   ]
  },
  {
   "cell_type": "code",
   "execution_count": 24,
   "metadata": {
    "ExecuteTime": {
     "end_time": "2019-10-08T08:45:48.124879Z",
     "start_time": "2019-10-08T08:45:47.900350Z"
    },
    "colab": {},
    "colab_type": "code",
    "id": "NTQ2iH-kAwbo"
   },
   "outputs": [
    {
     "name": "stdout",
     "output_type": "stream",
     "text": [
      "<class 'numpy.ndarray'>\n"
     ]
    }
   ],
   "source": [
    "boston = load_boston()\n",
    "X = load_boston().data\n",
    "Y = load_boston().target\n",
    "print(type(X))\n",
    "\n"
   ]
  },
  {
   "cell_type": "code",
   "execution_count": 25,
   "metadata": {
    "ExecuteTime": {
     "end_time": "2019-10-08T08:45:48.212572Z",
     "start_time": "2019-10-08T08:45:48.131863Z"
    }
   },
   "outputs": [
    {
     "name": "stdout",
     "output_type": "stream",
     "text": [
      "['CRIM' 'ZN' 'INDUS' 'CHAS' 'NOX' 'RM' 'AGE' 'DIS' 'RAD' 'TAX' 'PTRATIO'\n",
      " 'B' 'LSTAT']\n"
     ]
    }
   ],
   "source": [
    "names = boston[\"feature_names\"]\n",
    "print(names)"
   ]
  },
  {
   "cell_type": "markdown",
   "metadata": {
    "ExecuteTime": {
     "end_time": "2019-10-01T05:48:37.146915Z",
     "start_time": "2019-10-01T05:48:37.131904Z"
    }
   },
   "source": [
    "<h2><font color='red'>[1.2] Splitting data into Train and Test</font></h2>"
   ]
  },
  {
   "cell_type": "code",
   "execution_count": 26,
   "metadata": {
    "ExecuteTime": {
     "end_time": "2019-10-08T08:45:48.355670Z",
     "start_time": "2019-10-08T08:45:48.221556Z"
    }
   },
   "outputs": [
    {
     "name": "stdout",
     "output_type": "stream",
     "text": [
      "(354, 13)\n",
      "(152, 13)\n",
      "(354,)\n",
      "(152,)\n"
     ]
    }
   ],
   "source": [
    "from sklearn.model_selection import train_test_split\n",
    "X_train, X_test, Y_train, Y_test = train_test_split(X, Y, test_size = 0.3, random_state = 4)\n",
    "print(X_train.shape)\n",
    "print(X_test.shape)\n",
    "print(Y_train.shape)\n",
    "print(Y_test.shape)"
   ]
  },
  {
   "cell_type": "markdown",
   "metadata": {},
   "source": [
    " Vectorizing Numerical features"
   ]
  },
  {
   "cell_type": "code",
   "execution_count": 27,
   "metadata": {
    "ExecuteTime": {
     "end_time": "2019-10-08T08:45:48.472982Z",
     "start_time": "2019-10-08T08:45:48.362677Z"
    },
    "colab": {},
    "colab_type": "code",
    "id": "FgUW39s6Be0U"
   },
   "outputs": [],
   "source": [
    "scaler = preprocessing.StandardScaler().fit(X_train)\n",
    "X_train = scaler.transform(X_train)\n",
    "X_test = scaler.transform(X_test)\n"
   ]
  },
  {
   "cell_type": "markdown",
   "metadata": {},
   "source": [
    "<h2><font color='red'>[1.3] Applying SGD Regressor on Train and Test</font></h2>"
   ]
  },
  {
   "cell_type": "code",
   "execution_count": 28,
   "metadata": {
    "ExecuteTime": {
     "end_time": "2019-10-08T08:45:48.617084Z",
     "start_time": "2019-10-08T08:45:48.481990Z"
    },
    "colab": {
     "base_uri": "https://localhost:8080/",
     "height": 34
    },
    "colab_type": "code",
    "executionInfo": {
     "elapsed": 879,
     "status": "ok",
     "timestamp": 1545718892607,
     "user": {
      "displayName": "Applied AI Course",
      "photoUrl": "https://lh5.googleusercontent.com/-9_3A9F-kDXs/AAAAAAAAAAI/AAAAAAAAACw/IprjYvUuoXQ/s64/photo.jpg",
      "userId": "00484516897554883881"
     },
     "user_tz": -330
    },
    "id": "HNu1sXtEBBS2",
    "outputId": "a0c5d3d0-345c-4a34-8ccf-0d9f3d7d23fd"
   },
   "outputs": [
    {
     "name": "stdout",
     "output_type": "stream",
     "text": [
      "19.17364516552629\n"
     ]
    }
   ],
   "source": [
    "clf = SGDRegressor(loss='squared_loss')\n",
    "clf.fit(X_train, Y_train)\n",
    "print(mean_squared_error(Y_train, clf.predict(X_train)))"
   ]
  },
  {
   "cell_type": "code",
   "execution_count": 29,
   "metadata": {
    "ExecuteTime": {
     "end_time": "2019-10-08T08:45:48.734765Z",
     "start_time": "2019-10-08T08:45:48.622088Z"
    }
   },
   "outputs": [],
   "source": [
    "import matplotlib.pyplot as plt\n",
    "Y_pred = clf.predict(X_test)"
   ]
  },
  {
   "cell_type": "code",
   "execution_count": 30,
   "metadata": {
    "ExecuteTime": {
     "end_time": "2019-10-08T08:45:48.868606Z",
     "start_time": "2019-10-08T08:45:48.742757Z"
    }
   },
   "outputs": [
    {
     "name": "stdout",
     "output_type": "stream",
     "text": [
      "Train Mean Square error:  19.17364516552629\n",
      "Test Mean Square error:  29.98576704785638\n"
     ]
    }
   ],
   "source": [
    "from sklearn.metrics import mean_squared_error\n",
    "\n",
    "train_mse = mean_squared_error(Y_train, clf.predict(X_train))\n",
    "test_mse = mean_squared_error(Y_test, Y_pred)\n",
    "print('Train Mean Square error: ', train_mse)\n",
    "print('Test Mean Square error: ', test_mse)"
   ]
  },
  {
   "cell_type": "code",
   "execution_count": 31,
   "metadata": {
    "ExecuteTime": {
     "end_time": "2019-10-08T08:45:48.979345Z",
     "start_time": "2019-10-08T08:45:48.879608Z"
    }
   },
   "outputs": [],
   "source": [
    "from prettytable import PrettyTable\n",
    "table = PrettyTable()\n",
    "table.field_names = [\"Regressor\", \"Train MSE\", \"Test MSE\"]\n",
    "table.add_row(['SGDRegressor', round(train_mse,2), round(test_mse,2)])"
   ]
  },
  {
   "cell_type": "code",
   "execution_count": 32,
   "metadata": {
    "ExecuteTime": {
     "end_time": "2019-10-08T08:45:49.298344Z",
     "start_time": "2019-10-08T08:45:48.983315Z"
    }
   },
   "outputs": [
    {
     "data": {
      "image/png": "[encoded data removed]",
      "text/plain": [
       "<Figure size 432x288 with 1 Axes>"
      ]
     },
     "metadata": {
      "needs_background": "light"
     },
     "output_type": "display_data"
    }
   ],
   "source": [
    "plt.scatter(Y_test, Y_pred)\n",
    "plt.xlabel(\"Prices: Y\")\n",
    "plt.ylabel(\"Predicted prices: Y Cap\")\n",
    "plt.title(\"Prices vs Predicted prices: Y vs Y Cap using SGD regressor\")\n",
    "plt.show()"
   ]
  },
  {
   "cell_type": "markdown",
   "metadata": {},
   "source": [
    "<h2><font color='red'>[1.4] Applying Maunal SGD Regressor on Train and Test</font></h2>"
   ]
  },
  {
   "cell_type": "code",
   "execution_count": 33,
   "metadata": {
    "ExecuteTime": {
     "end_time": "2019-10-08T08:45:51.289741Z",
     "start_time": "2019-10-08T08:45:49.303326Z"
    }
   },
   "outputs": [
    {
     "name": "stdout",
     "output_type": "stream",
     "text": [
      "[[-1.07106903  1.14362035 -0.31561463  1.10695188 -1.64935064  2.19125727\n",
      "  -0.08882166 -3.20021609  2.18199561 -1.71355043 -1.74399624  0.81607338\n",
      "  -3.74238575]]\n",
      "[22.13513631]\n"
     ]
    }
   ],
   "source": [
    "iteration=1000\n",
    "alpha=0.01\n",
    "\n",
    "#Randomly choose 100 samples\n",
    "k=100\n",
    "\n",
    "#we are initializing the Weight vector with 0 vector having same number of items like x_train and intercept B to 0\n",
    "W=np.zeros(shape=(1,13))\n",
    "B=0\n",
    "\n",
    "while iteration>=0: \n",
    "    idx = np.random.choice(np.arange(len(X_train)), k, replace=False)\n",
    "    x = X_train[idx]\n",
    "    y = Y_train[idx]\n",
    "    \n",
    "    w,b,=W,B\n",
    "    temp_loss =np.zeros(shape=(1,13))\n",
    "    temp_intercept =0\n",
    "    \n",
    "    for i in range(k):\n",
    "        #partial differentiation wrt w dl/dw=1/k(-2x)*(y-wTx-b)\n",
    "        #dL/dW = 1/n Σ (-2x)(y-w.x-b)\n",
    "        temp_loss+=(-2)*x[i]*(y[i]-(np.dot(w,x[i])+b))\n",
    "        \n",
    "        #partial differentiation wrt b dl/db=1/k(-2)*(y-wTx-b)\n",
    "        #dL/dB= 1/n Σ (-2)(y-w.x-b)\n",
    "        temp_intercept+=(-2)*(y[i]-(np.dot(w,x[i])+b))\n",
    "        \n",
    "        \n",
    "    #W(j+1)=1/n(W(j) – r *(dL/dW))\n",
    "    W=(w-alpha*(temp_loss)/k)\n",
    "    \n",
    "    #B(j+1)=1/n(B(j) – r*(dL/dB))\n",
    "    B=(b-alpha*(temp_intercept)/k)\n",
    "\n",
    "    iteration-=1\n",
    "    \n",
    "print(W)\n",
    "print(B)"
   ]
  },
  {
   "cell_type": "code",
   "execution_count": 34,
   "metadata": {
    "ExecuteTime": {
     "end_time": "2019-10-08T08:45:51.304752Z",
     "start_time": "2019-10-08T08:45:51.294746Z"
    }
   },
   "outputs": [
    {
     "data": {
      "text/plain": [
       "\"\\niteration=1000\\nlr_rate=0.01\\nk=100\\n\\n#we are initializing the Weight vector with 0 vector having same number of items like x_train and intercept B to 0\\nW=np.zeros(shape=(1,13))\\nB=0\\n\\ntraining_data=pd.DataFrame(X_train)\\ntraining_data['price']=Y_train\\ntraining_data.head()\\n\\nwhile iteration>=0: \\n    data=training_data.sample(k) #sampling random k=batch size=100 data\\n    x=np.array(data.drop('price',axis=1))\\n    y=np.array(data['price'])\\n    \\n    w,b,=W,B\\n    temp_loss =np.zeros(shape=(1,13))\\n    temp_intercept =0\\n    \\n    for i in range(k):\\n        #partial differentiation wrt w dl/dw=1/k(-2x)*(y-wTx-b)\\n        temp_loss+=(-2)*x[i]*(y[i]-(np.dot(w,x[i])+b))\\n        \\n        #partial differentiation wrt b dl/db=1/k(-2)*(y-wTx-b)\\n        temp_intercept+=(-2)*(y[i]-(np.dot(w,x[i])+b))\\n        \\n    W=(w-lr_rate*(temp_loss)/k)\\n    B=(b-lr_rate*(temp_intercept)/k)\\n\\n    iteration-=1\\n    \\nprint(W)\\nprint(B)\\n\\n\""
      ]
     },
     "execution_count": 34,
     "metadata": {},
     "output_type": "execute_result"
    }
   ],
   "source": [
    "#Alternative way \n",
    "'''\n",
    "iteration=1000\n",
    "lr_rate=0.01\n",
    "k=100\n",
    "\n",
    "#we are initializing the Weight vector with 0 vector having same number of items like x_train and intercept B to 0\n",
    "W=np.zeros(shape=(1,13))\n",
    "B=0\n",
    "\n",
    "training_data=pd.DataFrame(X_train)\n",
    "training_data['price']=Y_train\n",
    "training_data.head()\n",
    "\n",
    "while iteration>=0: \n",
    "    data=training_data.sample(k) #sampling random k=batch size=100 data\n",
    "    x=np.array(data.drop('price',axis=1))\n",
    "    y=np.array(data['price'])\n",
    "    \n",
    "    w,b,=W,B\n",
    "    temp_loss =np.zeros(shape=(1,13))\n",
    "    temp_intercept =0\n",
    "    \n",
    "    for i in range(k):\n",
    "        #partial differentiation wrt w dl/dw=1/k(-2x)*(y-wTx-b)\n",
    "        temp_loss+=(-2)*x[i]*(y[i]-(np.dot(w,x[i])+b))\n",
    "        \n",
    "        #partial differentiation wrt b dl/db=1/k(-2)*(y-wTx-b)\n",
    "        temp_intercept+=(-2)*(y[i]-(np.dot(w,x[i])+b))\n",
    "        \n",
    "    W=(w-lr_rate*(temp_loss)/k)\n",
    "    B=(b-lr_rate*(temp_intercept)/k)\n",
    "\n",
    "    iteration-=1\n",
    "    \n",
    "print(W)\n",
    "print(B)\n",
    "\n",
    "'''"
   ]
  },
  {
   "cell_type": "code",
   "execution_count": 35,
   "metadata": {
    "ExecuteTime": {
     "end_time": "2019-10-08T08:45:51.441847Z",
     "start_time": "2019-10-08T08:45:51.309756Z"
    }
   },
   "outputs": [],
   "source": [
    "#prediction on x_test using manual SGD\n",
    "#https://www.geeksforgeeks.org/numpy-asscalar-in-python/\n",
    "y_train_manual=[]\n",
    "for i in range(len(X_train)):\n",
    "    val=np.dot(W,X_train[i])+B  #val= wTx+b\n",
    "    y_train_manual.append(np.asscalar(val))\n",
    "    \n",
    "    \n",
    "y_test_manual=[]\n",
    "for i in range(len(X_test)):\n",
    "    val=np.dot(W,X_test[i])+B  #val= wTx+b\n",
    "    y_test_manual.append(np.asscalar(val))"
   ]
  },
  {
   "cell_type": "code",
   "execution_count": 36,
   "metadata": {
    "ExecuteTime": {
     "end_time": "2019-10-08T08:45:51.595032Z",
     "start_time": "2019-10-08T08:45:51.446842Z"
    }
   },
   "outputs": [
    {
     "name": "stdout",
     "output_type": "stream",
     "text": [
      "Manual Train Mean Square error:  19.188779894643204\n",
      "Manual Test Mean Square error:  29.963011590043447\n"
     ]
    }
   ],
   "source": [
    "manual_train_mse = mean_squared_error(Y_train, y_train_manual)\n",
    "manual_test_mse = mean_squared_error(Y_test, y_test_manual)\n",
    "print('Manual Train Mean Square error: ', manual_train_mse)\n",
    "print('Manual Test Mean Square error: ', manual_test_mse)\n",
    "\n",
    "table.add_row(['Manual SGDRegressor', round(manual_train_mse,2), round(manual_test_mse,2)])"
   ]
  },
  {
   "cell_type": "code",
   "execution_count": 37,
   "metadata": {
    "ExecuteTime": {
     "end_time": "2019-10-08T08:45:51.909323Z",
     "start_time": "2019-10-08T08:45:51.603038Z"
    }
   },
   "outputs": [
    {
     "data": {
      "image/png": "[encoded data removed]",
      "text/plain": [
       "<Figure size 432x288 with 1 Axes>"
      ]
     },
     "metadata": {
      "needs_background": "light"
     },
     "output_type": "display_data"
    }
   ],
   "source": [
    "plt.scatter(Y_test, y_test_manual)\n",
    "plt.xlabel(\"Prices: Y\")\n",
    "plt.ylabel(\"Predicted prices: Y Cap\")\n",
    "plt.title(\"Prices vs Predicted prices: Y vs Y Cap using Manual SGD regressor\")\n",
    "plt.show()"
   ]
  },
  {
   "cell_type": "markdown",
   "metadata": {},
   "source": [
    "<h2><font color='red'>[1.3] Applying Linear Regression on Train and Test</font></h2>"
   ]
  },
  {
   "cell_type": "code",
   "execution_count": 38,
   "metadata": {
    "ExecuteTime": {
     "end_time": "2019-10-08T08:45:51.933319Z",
     "start_time": "2019-10-08T08:45:51.914306Z"
    }
   },
   "outputs": [
    {
     "name": "stdout",
     "output_type": "stream",
     "text": [
      "19.07368870346903\n",
      "Train Mean Square error:  19.07368870346903\n",
      "Test Mean Square error:  30.05399330712423\n"
     ]
    }
   ],
   "source": [
    "from sklearn.linear_model import LinearRegression\n",
    "clf = LinearRegression()\n",
    "clf.fit(X_train, Y_train)\n",
    "print(mean_squared_error(Y_train, clf.predict(X_train)))\n",
    "\n",
    "import matplotlib.pyplot as plt\n",
    "Y_pred = clf.predict(X_test)\n",
    "\n",
    "train_mse = mean_squared_error(Y_train, clf.predict(X_train))\n",
    "test_mse = mean_squared_error(Y_test, Y_pred)\n",
    "print('Train Mean Square error: ', train_mse)\n",
    "print('Test Mean Square error: ', test_mse)\n",
    "table.add_row(['Linear Regression', round(train_mse,2), round(test_mse,2)])\n"
   ]
  },
  {
   "cell_type": "code",
   "execution_count": 39,
   "metadata": {
    "ExecuteTime": {
     "end_time": "2019-10-08T08:45:52.406657Z",
     "start_time": "2019-10-08T08:45:51.938322Z"
    }
   },
   "outputs": [
    {
     "data": {
      "image/png": "[encoded data removed]",
      "text/plain": [
       "<Figure size 432x288 with 1 Axes>"
      ]
     },
     "metadata": {
      "needs_background": "light"
     },
     "output_type": "display_data"
    }
   ],
   "source": [
    "plt.scatter(Y_test, Y_pred)\n",
    "plt.xlabel(\"Prices: Y\")\n",
    "plt.ylabel(\"Predicted prices: Y Cap\")\n",
    "plt.title(\"Prices vs Predicted prices: Y vs Y Cap using Linear regression\")\n",
    "plt.show()"
   ]
  },
  {
   "cell_type": "code",
   "execution_count": 40,
   "metadata": {
    "ExecuteTime": {
     "end_time": "2019-10-08T08:45:52.424669Z",
     "start_time": "2019-10-08T08:45:52.412661Z"
    }
   },
   "outputs": [
    {
     "name": "stdout",
     "output_type": "stream",
     "text": [
      "+---------------------+-----------+----------+\n",
      "|      Regressor      | Train MSE | Test MSE |\n",
      "+---------------------+-----------+----------+\n",
      "|     SGDRegressor    |   19.17   |  29.99   |\n",
      "| Manual SGDRegressor |   19.19   |  29.96   |\n",
      "|  Linear Regression  |   19.07   |  30.05   |\n",
      "+---------------------+-----------+----------+\n"
     ]
    }
   ],
   "source": [
    "# Please compare all your models using Prettytable library\n",
    "from prettytable import PrettyTable\n",
    "print(table)"
   ]
  },
  {
   "cell_type": "markdown",
   "metadata": {},
   "source": [
    "<h2> Summary </h2>"
   ]
  },
  {
   "cell_type": "markdown",
   "metadata": {},
   "source": [
    "The scatter plots and mean squared error of both Manual SGDRegressor and  SKleran SGDRegressor are nearly equal."
   ]
  }
 ],
 "metadata": {
  "colab": {
   "name": "Untitled3.ipynb",
   "provenance": [],
   "version": "0.3.2"
  },
  "kernelspec": {
   "display_name": "Python 3",
   "language": "python",
   "name": "python3"
  },
  "language_info": {
   "codemirror_mode": {
    "name": "ipython",
    "version": 3
   },
   "file_extension": ".py",
   "mimetype": "text/x-python",
   "name": "python",
   "nbconvert_exporter": "python",
   "pygments_lexer": "ipython3",
   "version": "3.7.3"
  },
  "toc": {
   "base_numbering": 1,
   "nav_menu": {},
   "number_sections": true,
   "sideBar": true,
   "skip_h1_title": false,
   "title_cell": "Table of Contents",
   "title_sidebar": "Contents",
   "toc_cell": false,
   "toc_position": {},
   "toc_section_display": true,
   "toc_window_display": false
  },
  "varInspector": {
   "cols": {
    "lenName": 16,
    "lenType": 16,
    "lenVar": 40
   },
   "kernels_config": {
    "python": {
     "delete_cmd_postfix": "",
     "delete_cmd_prefix": "del ",
     "library": "var_list.py",
     "varRefreshCmd": "print(var_dic_list())"
    },
    "r": {
     "delete_cmd_postfix": ") ",
     "delete_cmd_prefix": "rm(",
     "library": "var_list.r",
     "varRefreshCmd": "cat(var_dic_list()) "
    }
   },
   "types_to_exclude": [
    "module",
    "function",
    "builtin_function_or_method",
    "instance",
    "_Feature"
   ],
   "window_display": false
  }
 },
 "nbformat": 4,
 "nbformat_minor": 1
}
